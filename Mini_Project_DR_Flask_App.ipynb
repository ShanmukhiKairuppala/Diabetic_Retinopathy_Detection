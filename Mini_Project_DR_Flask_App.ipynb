{
  "cells": [
    {
      "cell_type": "markdown",
      "metadata": {
        "id": "view-in-github",
        "colab_type": "text"
      },
      "source": [
        "<a href=\"https://colab.research.google.com/github/ShanmukhiKairuppala/Diabetic_Retinopathy_Detection/blob/main/Mini_Project_DR_Flask_App.ipynb\" target=\"_parent\"><img src=\"https://colab.research.google.com/assets/colab-badge.svg\" alt=\"Open In Colab\"/></a>"
      ]
    },
    {
      "cell_type": "code",
      "execution_count": null,
      "metadata": {
        "colab": {
          "base_uri": "https://localhost:8080/"
        },
        "collapsed": true,
        "id": "l9sVimFsio1d",
        "outputId": "56cb31f1-9dc7-428f-d279-96cbc2173b49"
      },
      "outputs": [
        {
          "output_type": "stream",
          "name": "stdout",
          "text": [
            "Requirement already satisfied: flask in /usr/local/lib/python3.10/dist-packages (2.2.5)\n",
            "Collecting flask-ngrok\n",
            "  Downloading flask_ngrok-0.0.25-py3-none-any.whl (3.1 kB)\n",
            "Requirement already satisfied: scikit-image in /usr/local/lib/python3.10/dist-packages (0.19.3)\n",
            "Requirement already satisfied: opencv-python-headless in /usr/local/lib/python3.10/dist-packages (4.10.0.82)\n",
            "Collecting pyngrok\n",
            "  Downloading pyngrok-7.1.6-py3-none-any.whl (22 kB)\n",
            "Requirement already satisfied: Werkzeug>=2.2.2 in /usr/local/lib/python3.10/dist-packages (from flask) (3.0.3)\n",
            "Requirement already satisfied: Jinja2>=3.0 in /usr/local/lib/python3.10/dist-packages (from flask) (3.1.4)\n",
            "Requirement already satisfied: itsdangerous>=2.0 in /usr/local/lib/python3.10/dist-packages (from flask) (2.2.0)\n",
            "Requirement already satisfied: click>=8.0 in /usr/local/lib/python3.10/dist-packages (from flask) (8.1.7)\n",
            "Requirement already satisfied: requests in /usr/local/lib/python3.10/dist-packages (from flask-ngrok) (2.31.0)\n",
            "Requirement already satisfied: numpy>=1.17.0 in /usr/local/lib/python3.10/dist-packages (from scikit-image) (1.25.2)\n",
            "Requirement already satisfied: scipy>=1.4.1 in /usr/local/lib/python3.10/dist-packages (from scikit-image) (1.11.4)\n",
            "Requirement already satisfied: networkx>=2.2 in /usr/local/lib/python3.10/dist-packages (from scikit-image) (3.3)\n",
            "Requirement already satisfied: pillow!=7.1.0,!=7.1.1,!=8.3.0,>=6.1.0 in /usr/local/lib/python3.10/dist-packages (from scikit-image) (9.4.0)\n",
            "Requirement already satisfied: imageio>=2.4.1 in /usr/local/lib/python3.10/dist-packages (from scikit-image) (2.31.6)\n",
            "Requirement already satisfied: tifffile>=2019.7.26 in /usr/local/lib/python3.10/dist-packages (from scikit-image) (2024.5.22)\n",
            "Requirement already satisfied: PyWavelets>=1.1.1 in /usr/local/lib/python3.10/dist-packages (from scikit-image) (1.6.0)\n",
            "Requirement already satisfied: packaging>=20.0 in /usr/local/lib/python3.10/dist-packages (from scikit-image) (24.1)\n",
            "Requirement already satisfied: PyYAML>=5.1 in /usr/local/lib/python3.10/dist-packages (from pyngrok) (6.0.1)\n",
            "Requirement already satisfied: MarkupSafe>=2.0 in /usr/local/lib/python3.10/dist-packages (from Jinja2>=3.0->flask) (2.1.5)\n",
            "Requirement already satisfied: charset-normalizer<4,>=2 in /usr/local/lib/python3.10/dist-packages (from requests->flask-ngrok) (3.3.2)\n",
            "Requirement already satisfied: idna<4,>=2.5 in /usr/local/lib/python3.10/dist-packages (from requests->flask-ngrok) (3.7)\n",
            "Requirement already satisfied: urllib3<3,>=1.21.1 in /usr/local/lib/python3.10/dist-packages (from requests->flask-ngrok) (2.0.7)\n",
            "Requirement already satisfied: certifi>=2017.4.17 in /usr/local/lib/python3.10/dist-packages (from requests->flask-ngrok) (2024.6.2)\n",
            "Installing collected packages: pyngrok, flask-ngrok\n",
            "Successfully installed flask-ngrok-0.0.25 pyngrok-7.1.6\n"
          ]
        }
      ],
      "source": [
        "!pip install flask flask-ngrok scikit-image opencv-python-headless pyngrok"
      ]
    },
    {
      "cell_type": "code",
      "source": [],
      "metadata": {
        "id": "a6_nN0GtzHO4"
      },
      "execution_count": null,
      "outputs": []
    },
    {
      "cell_type": "code",
      "execution_count": null,
      "metadata": {
        "colab": {
          "base_uri": "https://localhost:8080/"
        },
        "id": "QS5Y2XV_jtAp",
        "outputId": "aa851892-da1d-4c91-b275-266c216398a8"
      },
      "outputs": [
        {
          "output_type": "stream",
          "name": "stdout",
          "text": [
            "Authtoken saved to configuration file: /root/.config/ngrok/ngrok.yml\n"
          ]
        }
      ],
      "source": [
        "!ngrok authtoken 2hQVd6MLN11Zzq7SSgrDGxZbTmi_4XsoLQcwPcdSTntXX1fVV\n"
      ]
    },
    {
      "cell_type": "code",
      "execution_count": null,
      "metadata": {
        "colab": {
          "base_uri": "https://localhost:8080/"
        },
        "collapsed": true,
        "id": "L2jjempvG0A6",
        "outputId": "2bf57db5-fc40-4300-b764-6fec464ce974"
      },
      "outputs": [
        {
          "output_type": "stream",
          "name": "stdout",
          "text": [
            "Mounted at /content/drive\n",
            "Requirement already satisfied: scikit-image in /usr/local/lib/python3.10/dist-packages (0.19.3)\n",
            "Requirement already satisfied: tensorflow in /usr/local/lib/python3.10/dist-packages (2.15.0)\n",
            "Requirement already satisfied: flask-ngrok in /usr/local/lib/python3.10/dist-packages (0.0.25)\n",
            "Requirement already satisfied: numpy>=1.17.0 in /usr/local/lib/python3.10/dist-packages (from scikit-image) (1.25.2)\n",
            "Requirement already satisfied: scipy>=1.4.1 in /usr/local/lib/python3.10/dist-packages (from scikit-image) (1.11.4)\n",
            "Requirement already satisfied: networkx>=2.2 in /usr/local/lib/python3.10/dist-packages (from scikit-image) (3.3)\n",
            "Requirement already satisfied: pillow!=7.1.0,!=7.1.1,!=8.3.0,>=6.1.0 in /usr/local/lib/python3.10/dist-packages (from scikit-image) (9.4.0)\n",
            "Requirement already satisfied: imageio>=2.4.1 in /usr/local/lib/python3.10/dist-packages (from scikit-image) (2.31.6)\n",
            "Requirement already satisfied: tifffile>=2019.7.26 in /usr/local/lib/python3.10/dist-packages (from scikit-image) (2024.5.22)\n",
            "Requirement already satisfied: PyWavelets>=1.1.1 in /usr/local/lib/python3.10/dist-packages (from scikit-image) (1.6.0)\n",
            "Requirement already satisfied: packaging>=20.0 in /usr/local/lib/python3.10/dist-packages (from scikit-image) (24.1)\n",
            "Requirement already satisfied: absl-py>=1.0.0 in /usr/local/lib/python3.10/dist-packages (from tensorflow) (1.4.0)\n",
            "Requirement already satisfied: astunparse>=1.6.0 in /usr/local/lib/python3.10/dist-packages (from tensorflow) (1.6.3)\n",
            "Requirement already satisfied: flatbuffers>=23.5.26 in /usr/local/lib/python3.10/dist-packages (from tensorflow) (24.3.25)\n",
            "Requirement already satisfied: gast!=0.5.0,!=0.5.1,!=0.5.2,>=0.2.1 in /usr/local/lib/python3.10/dist-packages (from tensorflow) (0.5.4)\n",
            "Requirement already satisfied: google-pasta>=0.1.1 in /usr/local/lib/python3.10/dist-packages (from tensorflow) (0.2.0)\n",
            "Requirement already satisfied: h5py>=2.9.0 in /usr/local/lib/python3.10/dist-packages (from tensorflow) (3.9.0)\n",
            "Requirement already satisfied: libclang>=13.0.0 in /usr/local/lib/python3.10/dist-packages (from tensorflow) (18.1.1)\n",
            "Requirement already satisfied: ml-dtypes~=0.2.0 in /usr/local/lib/python3.10/dist-packages (from tensorflow) (0.2.0)\n",
            "Requirement already satisfied: opt-einsum>=2.3.2 in /usr/local/lib/python3.10/dist-packages (from tensorflow) (3.3.0)\n",
            "Requirement already satisfied: protobuf!=4.21.0,!=4.21.1,!=4.21.2,!=4.21.3,!=4.21.4,!=4.21.5,<5.0.0dev,>=3.20.3 in /usr/local/lib/python3.10/dist-packages (from tensorflow) (3.20.3)\n",
            "Requirement already satisfied: setuptools in /usr/local/lib/python3.10/dist-packages (from tensorflow) (67.7.2)\n",
            "Requirement already satisfied: six>=1.12.0 in /usr/local/lib/python3.10/dist-packages (from tensorflow) (1.16.0)\n",
            "Requirement already satisfied: termcolor>=1.1.0 in /usr/local/lib/python3.10/dist-packages (from tensorflow) (2.4.0)\n",
            "Requirement already satisfied: typing-extensions>=3.6.6 in /usr/local/lib/python3.10/dist-packages (from tensorflow) (4.12.2)\n",
            "Requirement already satisfied: wrapt<1.15,>=1.11.0 in /usr/local/lib/python3.10/dist-packages (from tensorflow) (1.14.1)\n",
            "Requirement already satisfied: tensorflow-io-gcs-filesystem>=0.23.1 in /usr/local/lib/python3.10/dist-packages (from tensorflow) (0.37.0)\n",
            "Requirement already satisfied: grpcio<2.0,>=1.24.3 in /usr/local/lib/python3.10/dist-packages (from tensorflow) (1.64.1)\n",
            "Requirement already satisfied: tensorboard<2.16,>=2.15 in /usr/local/lib/python3.10/dist-packages (from tensorflow) (2.15.2)\n",
            "Requirement already satisfied: tensorflow-estimator<2.16,>=2.15.0 in /usr/local/lib/python3.10/dist-packages (from tensorflow) (2.15.0)\n",
            "Requirement already satisfied: keras<2.16,>=2.15.0 in /usr/local/lib/python3.10/dist-packages (from tensorflow) (2.15.0)\n",
            "Requirement already satisfied: Flask>=0.8 in /usr/local/lib/python3.10/dist-packages (from flask-ngrok) (2.2.5)\n",
            "Requirement already satisfied: requests in /usr/local/lib/python3.10/dist-packages (from flask-ngrok) (2.31.0)\n",
            "Requirement already satisfied: wheel<1.0,>=0.23.0 in /usr/local/lib/python3.10/dist-packages (from astunparse>=1.6.0->tensorflow) (0.43.0)\n",
            "Requirement already satisfied: Werkzeug>=2.2.2 in /usr/local/lib/python3.10/dist-packages (from Flask>=0.8->flask-ngrok) (3.0.3)\n",
            "Requirement already satisfied: Jinja2>=3.0 in /usr/local/lib/python3.10/dist-packages (from Flask>=0.8->flask-ngrok) (3.1.4)\n",
            "Requirement already satisfied: itsdangerous>=2.0 in /usr/local/lib/python3.10/dist-packages (from Flask>=0.8->flask-ngrok) (2.2.0)\n",
            "Requirement already satisfied: click>=8.0 in /usr/local/lib/python3.10/dist-packages (from Flask>=0.8->flask-ngrok) (8.1.7)\n",
            "Requirement already satisfied: google-auth<3,>=1.6.3 in /usr/local/lib/python3.10/dist-packages (from tensorboard<2.16,>=2.15->tensorflow) (2.27.0)\n",
            "Requirement already satisfied: google-auth-oauthlib<2,>=0.5 in /usr/local/lib/python3.10/dist-packages (from tensorboard<2.16,>=2.15->tensorflow) (1.2.0)\n",
            "Requirement already satisfied: markdown>=2.6.8 in /usr/local/lib/python3.10/dist-packages (from tensorboard<2.16,>=2.15->tensorflow) (3.6)\n",
            "Requirement already satisfied: tensorboard-data-server<0.8.0,>=0.7.0 in /usr/local/lib/python3.10/dist-packages (from tensorboard<2.16,>=2.15->tensorflow) (0.7.2)\n",
            "Requirement already satisfied: charset-normalizer<4,>=2 in /usr/local/lib/python3.10/dist-packages (from requests->flask-ngrok) (3.3.2)\n",
            "Requirement already satisfied: idna<4,>=2.5 in /usr/local/lib/python3.10/dist-packages (from requests->flask-ngrok) (3.7)\n",
            "Requirement already satisfied: urllib3<3,>=1.21.1 in /usr/local/lib/python3.10/dist-packages (from requests->flask-ngrok) (2.0.7)\n",
            "Requirement already satisfied: certifi>=2017.4.17 in /usr/local/lib/python3.10/dist-packages (from requests->flask-ngrok) (2024.6.2)\n",
            "Requirement already satisfied: cachetools<6.0,>=2.0.0 in /usr/local/lib/python3.10/dist-packages (from google-auth<3,>=1.6.3->tensorboard<2.16,>=2.15->tensorflow) (5.3.3)\n",
            "Requirement already satisfied: pyasn1-modules>=0.2.1 in /usr/local/lib/python3.10/dist-packages (from google-auth<3,>=1.6.3->tensorboard<2.16,>=2.15->tensorflow) (0.4.0)\n",
            "Requirement already satisfied: rsa<5,>=3.1.4 in /usr/local/lib/python3.10/dist-packages (from google-auth<3,>=1.6.3->tensorboard<2.16,>=2.15->tensorflow) (4.9)\n",
            "Requirement already satisfied: requests-oauthlib>=0.7.0 in /usr/local/lib/python3.10/dist-packages (from google-auth-oauthlib<2,>=0.5->tensorboard<2.16,>=2.15->tensorflow) (1.3.1)\n",
            "Requirement already satisfied: MarkupSafe>=2.0 in /usr/local/lib/python3.10/dist-packages (from Jinja2>=3.0->Flask>=0.8->flask-ngrok) (2.1.5)\n",
            "Requirement already satisfied: pyasn1<0.7.0,>=0.4.6 in /usr/local/lib/python3.10/dist-packages (from pyasn1-modules>=0.2.1->google-auth<3,>=1.6.3->tensorboard<2.16,>=2.15->tensorflow) (0.6.0)\n",
            "Requirement already satisfied: oauthlib>=3.0.0 in /usr/local/lib/python3.10/dist-packages (from requests-oauthlib>=0.7.0->google-auth-oauthlib<2,>=0.5->tensorboard<2.16,>=2.15->tensorflow) (3.2.2)\n",
            "Requirement already satisfied: flask in /usr/local/lib/python3.10/dist-packages (2.2.5)\n",
            "Requirement already satisfied: flask-ngrok in /usr/local/lib/python3.10/dist-packages (0.0.25)\n",
            "Requirement already satisfied: scikit-image in /usr/local/lib/python3.10/dist-packages (0.19.3)\n",
            "Requirement already satisfied: opencv-python-headless in /usr/local/lib/python3.10/dist-packages (4.10.0.82)\n",
            "Requirement already satisfied: pyngrok in /usr/local/lib/python3.10/dist-packages (7.1.6)\n",
            "Requirement already satisfied: Werkzeug>=2.2.2 in /usr/local/lib/python3.10/dist-packages (from flask) (3.0.3)\n",
            "Requirement already satisfied: Jinja2>=3.0 in /usr/local/lib/python3.10/dist-packages (from flask) (3.1.4)\n",
            "Requirement already satisfied: itsdangerous>=2.0 in /usr/local/lib/python3.10/dist-packages (from flask) (2.2.0)\n",
            "Requirement already satisfied: click>=8.0 in /usr/local/lib/python3.10/dist-packages (from flask) (8.1.7)\n",
            "Requirement already satisfied: requests in /usr/local/lib/python3.10/dist-packages (from flask-ngrok) (2.31.0)\n",
            "Requirement already satisfied: numpy>=1.17.0 in /usr/local/lib/python3.10/dist-packages (from scikit-image) (1.25.2)\n",
            "Requirement already satisfied: scipy>=1.4.1 in /usr/local/lib/python3.10/dist-packages (from scikit-image) (1.11.4)\n",
            "Requirement already satisfied: networkx>=2.2 in /usr/local/lib/python3.10/dist-packages (from scikit-image) (3.3)\n",
            "Requirement already satisfied: pillow!=7.1.0,!=7.1.1,!=8.3.0,>=6.1.0 in /usr/local/lib/python3.10/dist-packages (from scikit-image) (9.4.0)\n",
            "Requirement already satisfied: imageio>=2.4.1 in /usr/local/lib/python3.10/dist-packages (from scikit-image) (2.31.6)\n",
            "Requirement already satisfied: tifffile>=2019.7.26 in /usr/local/lib/python3.10/dist-packages (from scikit-image) (2024.5.22)\n",
            "Requirement already satisfied: PyWavelets>=1.1.1 in /usr/local/lib/python3.10/dist-packages (from scikit-image) (1.6.0)\n",
            "Requirement already satisfied: packaging>=20.0 in /usr/local/lib/python3.10/dist-packages (from scikit-image) (24.1)\n",
            "Requirement already satisfied: PyYAML>=5.1 in /usr/local/lib/python3.10/dist-packages (from pyngrok) (6.0.1)\n",
            "Requirement already satisfied: MarkupSafe>=2.0 in /usr/local/lib/python3.10/dist-packages (from Jinja2>=3.0->flask) (2.1.5)\n",
            "Requirement already satisfied: charset-normalizer<4,>=2 in /usr/local/lib/python3.10/dist-packages (from requests->flask-ngrok) (3.3.2)\n",
            "Requirement already satisfied: idna<4,>=2.5 in /usr/local/lib/python3.10/dist-packages (from requests->flask-ngrok) (3.7)\n",
            "Requirement already satisfied: urllib3<3,>=1.21.1 in /usr/local/lib/python3.10/dist-packages (from requests->flask-ngrok) (2.0.7)\n",
            "Requirement already satisfied: certifi>=2017.4.17 in /usr/local/lib/python3.10/dist-packages (from requests->flask-ngrok) (2024.6.2)\n"
          ]
        }
      ],
      "source": [
        "from google.colab import drive\n",
        "drive.mount('/content/drive')\n",
        "!pip install scikit-image tensorflow flask-ngrok\n",
        "!pip install flask flask-ngrok scikit-image opencv-python-headless pyngrok\n"
      ]
    },
    {
      "cell_type": "code",
      "execution_count": null,
      "metadata": {
        "colab": {
          "base_uri": "https://localhost:8080/"
        },
        "collapsed": true,
        "id": "0joravzB13kP",
        "outputId": "c3958bfb-d59c-4fa5-a8b3-0396bc08fc05"
      },
      "outputs": [
        {
          "name": "stdout",
          "output_type": "stream",
          "text": [
            "Mounted at /content/drive\n",
            "Requirement already satisfied: scikit-image in /usr/local/lib/python3.10/dist-packages (0.19.3)\n",
            "Requirement already satisfied: tensorflow in /usr/local/lib/python3.10/dist-packages (2.15.0)\n",
            "Requirement already satisfied: flask-ngrok in /usr/local/lib/python3.10/dist-packages (0.0.25)\n",
            "Requirement already satisfied: numpy>=1.17.0 in /usr/local/lib/python3.10/dist-packages (from scikit-image) (1.25.2)\n",
            "Requirement already satisfied: scipy>=1.4.1 in /usr/local/lib/python3.10/dist-packages (from scikit-image) (1.11.4)\n",
            "Requirement already satisfied: networkx>=2.2 in /usr/local/lib/python3.10/dist-packages (from scikit-image) (3.3)\n",
            "Requirement already satisfied: pillow!=7.1.0,!=7.1.1,!=8.3.0,>=6.1.0 in /usr/local/lib/python3.10/dist-packages (from scikit-image) (9.4.0)\n",
            "Requirement already satisfied: imageio>=2.4.1 in /usr/local/lib/python3.10/dist-packages (from scikit-image) (2.31.6)\n",
            "Requirement already satisfied: tifffile>=2019.7.26 in /usr/local/lib/python3.10/dist-packages (from scikit-image) (2024.5.22)\n",
            "Requirement already satisfied: PyWavelets>=1.1.1 in /usr/local/lib/python3.10/dist-packages (from scikit-image) (1.6.0)\n",
            "Requirement already satisfied: packaging>=20.0 in /usr/local/lib/python3.10/dist-packages (from scikit-image) (24.0)\n",
            "Requirement already satisfied: absl-py>=1.0.0 in /usr/local/lib/python3.10/dist-packages (from tensorflow) (1.4.0)\n",
            "Requirement already satisfied: astunparse>=1.6.0 in /usr/local/lib/python3.10/dist-packages (from tensorflow) (1.6.3)\n",
            "Requirement already satisfied: flatbuffers>=23.5.26 in /usr/local/lib/python3.10/dist-packages (from tensorflow) (24.3.25)\n",
            "Requirement already satisfied: gast!=0.5.0,!=0.5.1,!=0.5.2,>=0.2.1 in /usr/local/lib/python3.10/dist-packages (from tensorflow) (0.5.4)\n",
            "Requirement already satisfied: google-pasta>=0.1.1 in /usr/local/lib/python3.10/dist-packages (from tensorflow) (0.2.0)\n",
            "Requirement already satisfied: h5py>=2.9.0 in /usr/local/lib/python3.10/dist-packages (from tensorflow) (3.9.0)\n",
            "Requirement already satisfied: libclang>=13.0.0 in /usr/local/lib/python3.10/dist-packages (from tensorflow) (18.1.1)\n",
            "Requirement already satisfied: ml-dtypes~=0.2.0 in /usr/local/lib/python3.10/dist-packages (from tensorflow) (0.2.0)\n",
            "Requirement already satisfied: opt-einsum>=2.3.2 in /usr/local/lib/python3.10/dist-packages (from tensorflow) (3.3.0)\n",
            "Requirement already satisfied: protobuf!=4.21.0,!=4.21.1,!=4.21.2,!=4.21.3,!=4.21.4,!=4.21.5,<5.0.0dev,>=3.20.3 in /usr/local/lib/python3.10/dist-packages (from tensorflow) (3.20.3)\n",
            "Requirement already satisfied: setuptools in /usr/local/lib/python3.10/dist-packages (from tensorflow) (67.7.2)\n",
            "Requirement already satisfied: six>=1.12.0 in /usr/local/lib/python3.10/dist-packages (from tensorflow) (1.16.0)\n",
            "Requirement already satisfied: termcolor>=1.1.0 in /usr/local/lib/python3.10/dist-packages (from tensorflow) (2.4.0)\n",
            "Requirement already satisfied: typing-extensions>=3.6.6 in /usr/local/lib/python3.10/dist-packages (from tensorflow) (4.12.1)\n",
            "Requirement already satisfied: wrapt<1.15,>=1.11.0 in /usr/local/lib/python3.10/dist-packages (from tensorflow) (1.14.1)\n",
            "Requirement already satisfied: tensorflow-io-gcs-filesystem>=0.23.1 in /usr/local/lib/python3.10/dist-packages (from tensorflow) (0.37.0)\n",
            "Requirement already satisfied: grpcio<2.0,>=1.24.3 in /usr/local/lib/python3.10/dist-packages (from tensorflow) (1.64.1)\n",
            "Requirement already satisfied: tensorboard<2.16,>=2.15 in /usr/local/lib/python3.10/dist-packages (from tensorflow) (2.15.2)\n",
            "Requirement already satisfied: tensorflow-estimator<2.16,>=2.15.0 in /usr/local/lib/python3.10/dist-packages (from tensorflow) (2.15.0)\n",
            "Requirement already satisfied: keras<2.16,>=2.15.0 in /usr/local/lib/python3.10/dist-packages (from tensorflow) (2.15.0)\n",
            "Requirement already satisfied: Flask>=0.8 in /usr/local/lib/python3.10/dist-packages (from flask-ngrok) (2.2.5)\n",
            "Requirement already satisfied: requests in /usr/local/lib/python3.10/dist-packages (from flask-ngrok) (2.31.0)\n",
            "Requirement already satisfied: wheel<1.0,>=0.23.0 in /usr/local/lib/python3.10/dist-packages (from astunparse>=1.6.0->tensorflow) (0.43.0)\n",
            "Requirement already satisfied: Werkzeug>=2.2.2 in /usr/local/lib/python3.10/dist-packages (from Flask>=0.8->flask-ngrok) (3.0.3)\n",
            "Requirement already satisfied: Jinja2>=3.0 in /usr/local/lib/python3.10/dist-packages (from Flask>=0.8->flask-ngrok) (3.1.4)\n",
            "Requirement already satisfied: itsdangerous>=2.0 in /usr/local/lib/python3.10/dist-packages (from Flask>=0.8->flask-ngrok) (2.2.0)\n",
            "Requirement already satisfied: click>=8.0 in /usr/local/lib/python3.10/dist-packages (from Flask>=0.8->flask-ngrok) (8.1.7)\n",
            "Requirement already satisfied: google-auth<3,>=1.6.3 in /usr/local/lib/python3.10/dist-packages (from tensorboard<2.16,>=2.15->tensorflow) (2.27.0)\n",
            "Requirement already satisfied: google-auth-oauthlib<2,>=0.5 in /usr/local/lib/python3.10/dist-packages (from tensorboard<2.16,>=2.15->tensorflow) (1.2.0)\n",
            "Requirement already satisfied: markdown>=2.6.8 in /usr/local/lib/python3.10/dist-packages (from tensorboard<2.16,>=2.15->tensorflow) (3.6)\n",
            "Requirement already satisfied: tensorboard-data-server<0.8.0,>=0.7.0 in /usr/local/lib/python3.10/dist-packages (from tensorboard<2.16,>=2.15->tensorflow) (0.7.2)\n",
            "Requirement already satisfied: charset-normalizer<4,>=2 in /usr/local/lib/python3.10/dist-packages (from requests->flask-ngrok) (3.3.2)\n",
            "Requirement already satisfied: idna<4,>=2.5 in /usr/local/lib/python3.10/dist-packages (from requests->flask-ngrok) (3.7)\n",
            "Requirement already satisfied: urllib3<3,>=1.21.1 in /usr/local/lib/python3.10/dist-packages (from requests->flask-ngrok) (2.0.7)\n",
            "Requirement already satisfied: certifi>=2017.4.17 in /usr/local/lib/python3.10/dist-packages (from requests->flask-ngrok) (2024.6.2)\n",
            "Requirement already satisfied: cachetools<6.0,>=2.0.0 in /usr/local/lib/python3.10/dist-packages (from google-auth<3,>=1.6.3->tensorboard<2.16,>=2.15->tensorflow) (5.3.3)\n",
            "Requirement already satisfied: pyasn1-modules>=0.2.1 in /usr/local/lib/python3.10/dist-packages (from google-auth<3,>=1.6.3->tensorboard<2.16,>=2.15->tensorflow) (0.4.0)\n",
            "Requirement already satisfied: rsa<5,>=3.1.4 in /usr/local/lib/python3.10/dist-packages (from google-auth<3,>=1.6.3->tensorboard<2.16,>=2.15->tensorflow) (4.9)\n",
            "Requirement already satisfied: requests-oauthlib>=0.7.0 in /usr/local/lib/python3.10/dist-packages (from google-auth-oauthlib<2,>=0.5->tensorboard<2.16,>=2.15->tensorflow) (1.3.1)\n",
            "Requirement already satisfied: MarkupSafe>=2.0 in /usr/local/lib/python3.10/dist-packages (from Jinja2>=3.0->Flask>=0.8->flask-ngrok) (2.1.5)\n",
            "Requirement already satisfied: pyasn1<0.7.0,>=0.4.6 in /usr/local/lib/python3.10/dist-packages (from pyasn1-modules>=0.2.1->google-auth<3,>=1.6.3->tensorboard<2.16,>=2.15->tensorflow) (0.6.0)\n",
            "Requirement already satisfied: oauthlib>=3.0.0 in /usr/local/lib/python3.10/dist-packages (from requests-oauthlib>=0.7.0->google-auth-oauthlib<2,>=0.5->tensorboard<2.16,>=2.15->tensorflow) (3.2.2)\n",
            "Requirement already satisfied: flask in /usr/local/lib/python3.10/dist-packages (2.2.5)\n",
            "Requirement already satisfied: flask-ngrok in /usr/local/lib/python3.10/dist-packages (0.0.25)\n",
            "Requirement already satisfied: scikit-image in /usr/local/lib/python3.10/dist-packages (0.19.3)\n",
            "Requirement already satisfied: opencv-python-headless in /usr/local/lib/python3.10/dist-packages (4.10.0.82)\n",
            "Requirement already satisfied: pyngrok in /usr/local/lib/python3.10/dist-packages (7.1.6)\n",
            "Requirement already satisfied: Werkzeug>=2.2.2 in /usr/local/lib/python3.10/dist-packages (from flask) (3.0.3)\n",
            "Requirement already satisfied: Jinja2>=3.0 in /usr/local/lib/python3.10/dist-packages (from flask) (3.1.4)\n",
            "Requirement already satisfied: itsdangerous>=2.0 in /usr/local/lib/python3.10/dist-packages (from flask) (2.2.0)\n",
            "Requirement already satisfied: click>=8.0 in /usr/local/lib/python3.10/dist-packages (from flask) (8.1.7)\n",
            "Requirement already satisfied: requests in /usr/local/lib/python3.10/dist-packages (from flask-ngrok) (2.31.0)\n",
            "Requirement already satisfied: numpy>=1.17.0 in /usr/local/lib/python3.10/dist-packages (from scikit-image) (1.25.2)\n",
            "Requirement already satisfied: scipy>=1.4.1 in /usr/local/lib/python3.10/dist-packages (from scikit-image) (1.11.4)\n",
            "Requirement already satisfied: networkx>=2.2 in /usr/local/lib/python3.10/dist-packages (from scikit-image) (3.3)\n",
            "Requirement already satisfied: pillow!=7.1.0,!=7.1.1,!=8.3.0,>=6.1.0 in /usr/local/lib/python3.10/dist-packages (from scikit-image) (9.4.0)\n",
            "Requirement already satisfied: imageio>=2.4.1 in /usr/local/lib/python3.10/dist-packages (from scikit-image) (2.31.6)\n",
            "Requirement already satisfied: tifffile>=2019.7.26 in /usr/local/lib/python3.10/dist-packages (from scikit-image) (2024.5.22)\n",
            "Requirement already satisfied: PyWavelets>=1.1.1 in /usr/local/lib/python3.10/dist-packages (from scikit-image) (1.6.0)\n",
            "Requirement already satisfied: packaging>=20.0 in /usr/local/lib/python3.10/dist-packages (from scikit-image) (24.0)\n",
            "Requirement already satisfied: PyYAML>=5.1 in /usr/local/lib/python3.10/dist-packages (from pyngrok) (6.0.1)\n",
            "Requirement already satisfied: MarkupSafe>=2.0 in /usr/local/lib/python3.10/dist-packages (from Jinja2>=3.0->flask) (2.1.5)\n",
            "Requirement already satisfied: charset-normalizer<4,>=2 in /usr/local/lib/python3.10/dist-packages (from requests->flask-ngrok) (3.3.2)\n",
            "Requirement already satisfied: idna<4,>=2.5 in /usr/local/lib/python3.10/dist-packages (from requests->flask-ngrok) (3.7)\n",
            "Requirement already satisfied: urllib3<3,>=1.21.1 in /usr/local/lib/python3.10/dist-packages (from requests->flask-ngrok) (2.0.7)\n",
            "Requirement already satisfied: certifi>=2017.4.17 in /usr/local/lib/python3.10/dist-packages (from requests->flask-ngrok) (2024.6.2)\n",
            "Public URL: NgrokTunnel: \"https://3ab5-34-106-96-17.ngrok-free.app\" -> \"http://localhost:5000\"\n",
            " * Serving Flask app '__main__'\n",
            " * Debug mode: off\n"
          ]
        },
        {
          "name": "stderr",
          "output_type": "stream",
          "text": [
            "INFO:werkzeug:\u001b[31m\u001b[1mWARNING: This is a development server. Do not use it in a production deployment. Use a production WSGI server instead.\u001b[0m\n",
            " * Running on http://127.0.0.1:5000\n",
            "INFO:werkzeug:\u001b[33mPress CTRL+C to quit\u001b[0m\n"
          ]
        },
        {
          "name": "stdout",
          "output_type": "stream",
          "text": [
            "1/1 [==============================] - 2s 2s/step\n"
          ]
        },
        {
          "name": "stderr",
          "output_type": "stream",
          "text": [
            "INFO:werkzeug:127.0.0.1 - - [12/Jun/2024 03:22:53] \"POST /predict HTTP/1.1\" 200 -\n"
          ]
        },
        {
          "name": "stdout",
          "output_type": "stream",
          "text": [
            "1/1 [==============================] - 0s 184ms/step\n"
          ]
        },
        {
          "name": "stderr",
          "output_type": "stream",
          "text": [
            "INFO:werkzeug:127.0.0.1 - - [12/Jun/2024 03:30:52] \"POST /predict HTTP/1.1\" 200 -\n"
          ]
        },
        {
          "name": "stdout",
          "output_type": "stream",
          "text": [
            "1/1 [==============================] - 0s 295ms/step\n"
          ]
        },
        {
          "name": "stderr",
          "output_type": "stream",
          "text": [
            "INFO:werkzeug:127.0.0.1 - - [12/Jun/2024 03:39:30] \"POST /predict HTTP/1.1\" 200 -\n"
          ]
        },
        {
          "name": "stdout",
          "output_type": "stream",
          "text": [
            "1/1 [==============================] - 0s 158ms/step\n"
          ]
        },
        {
          "name": "stderr",
          "output_type": "stream",
          "text": [
            "INFO:werkzeug:127.0.0.1 - - [12/Jun/2024 03:46:36] \"POST /predict HTTP/1.1\" 200 -\n"
          ]
        },
        {
          "name": "stdout",
          "output_type": "stream",
          "text": [
            "1/1 [==============================] - 0s 161ms/step\n"
          ]
        },
        {
          "name": "stderr",
          "output_type": "stream",
          "text": [
            "INFO:werkzeug:127.0.0.1 - - [12/Jun/2024 03:47:05] \"POST /predict HTTP/1.1\" 200 -\n"
          ]
        },
        {
          "name": "stdout",
          "output_type": "stream",
          "text": [
            "1/1 [==============================] - 0s 175ms/step\n"
          ]
        },
        {
          "name": "stderr",
          "output_type": "stream",
          "text": [
            "INFO:werkzeug:127.0.0.1 - - [12/Jun/2024 03:48:24] \"POST /predict HTTP/1.1\" 200 -\n"
          ]
        },
        {
          "name": "stdout",
          "output_type": "stream",
          "text": [
            "1/1 [==============================] - 0s 276ms/step\n"
          ]
        },
        {
          "name": "stderr",
          "output_type": "stream",
          "text": [
            "INFO:werkzeug:127.0.0.1 - - [12/Jun/2024 03:55:27] \"POST /predict HTTP/1.1\" 200 -\n"
          ]
        },
        {
          "name": "stdout",
          "output_type": "stream",
          "text": [
            "1/1 [==============================] - 0s 267ms/step\n"
          ]
        },
        {
          "name": "stderr",
          "output_type": "stream",
          "text": [
            "INFO:werkzeug:127.0.0.1 - - [12/Jun/2024 03:56:35] \"POST /predict HTTP/1.1\" 200 -\n"
          ]
        },
        {
          "name": "stdout",
          "output_type": "stream",
          "text": [
            "1/1 [==============================] - 0s 160ms/step\n"
          ]
        },
        {
          "name": "stderr",
          "output_type": "stream",
          "text": [
            "INFO:werkzeug:127.0.0.1 - - [12/Jun/2024 04:08:57] \"POST /predict HTTP/1.1\" 200 -\n"
          ]
        },
        {
          "name": "stdout",
          "output_type": "stream",
          "text": [
            "1/1 [==============================] - 0s 173ms/step\n"
          ]
        },
        {
          "name": "stderr",
          "output_type": "stream",
          "text": [
            "INFO:werkzeug:127.0.0.1 - - [12/Jun/2024 04:11:15] \"POST /predict HTTP/1.1\" 200 -\n"
          ]
        },
        {
          "name": "stdout",
          "output_type": "stream",
          "text": [
            "1/1 [==============================] - 0s 311ms/step\n"
          ]
        },
        {
          "name": "stderr",
          "output_type": "stream",
          "text": [
            "INFO:werkzeug:127.0.0.1 - - [12/Jun/2024 04:32:10] \"POST /predict HTTP/1.1\" 200 -\n"
          ]
        },
        {
          "name": "stdout",
          "output_type": "stream",
          "text": [
            "1/1 [==============================] - 0s 163ms/step\n"
          ]
        },
        {
          "name": "stderr",
          "output_type": "stream",
          "text": [
            "INFO:werkzeug:127.0.0.1 - - [12/Jun/2024 04:53:39] \"POST /predict HTTP/1.1\" 200 -\n"
          ]
        },
        {
          "name": "stdout",
          "output_type": "stream",
          "text": [
            "1/1 [==============================] - 0s 157ms/step\n"
          ]
        },
        {
          "name": "stderr",
          "output_type": "stream",
          "text": [
            "INFO:werkzeug:127.0.0.1 - - [12/Jun/2024 04:57:54] \"POST /predict HTTP/1.1\" 200 -\n"
          ]
        }
      ],
      "source": [
        "\n",
        "# import os\n",
        "# import numpy as np\n",
        "# import matplotlib.pyplot as plt\n",
        "# from skimage import io, img_as_ubyte\n",
        "# import cv2\n",
        "# from flask import Flask, request, jsonify, send_file\n",
        "# import tensorflow as tf\n",
        "# import subprocess\n",
        "# from pyngrok import ngrok\n",
        "# import base64\n",
        "\n",
        "# app = Flask(__name__)\n",
        "# app.config['UPLOAD_FOLDER'] = 'static/uploads/'\n",
        "\n",
        "# # Load your model\n",
        "# model = tf.keras.models.load_model('/content/drive/MyDrive/FineTunedModel')\n",
        "\n",
        "# def preprocess_image(image, size=(256, 256)):\n",
        "#     if image.ndim == 2 or image.max() == image.min():\n",
        "#         print(\"Skipping image: Image is either grayscale or completely black.\")\n",
        "#         return None\n",
        "\n",
        "#     if image.ndim == 3 and image.shape[2] == 3:\n",
        "#         lab = cv2.cvtColor(image, cv2.COLOR_RGB2LAB)\n",
        "#         l, a, b = cv2.split(lab)\n",
        "#         clahe = cv2.createCLAHE(clipLimit=2.0, tileGridSize=(8, 8))\n",
        "#         cl = clahe.apply(l)\n",
        "#         limg = cv2.merge((cl, a, b))\n",
        "#         image = cv2.cvtColor(limg, cv2.COLOR_LAB2RGB)\n",
        "#     elif image.ndim == 2:\n",
        "#         clahe = cv2.createCLAHE(clipLimit=2.0, tileGridSize=(8, 8))\n",
        "#         image = clahe.apply(image)\n",
        "\n",
        "#     resized_image = cv2.resize(image, size)\n",
        "#     return img_as_ubyte(resized_image)\n",
        "\n",
        "# def augment_image(image, base_filename, output_dir, retinopathy=True):\n",
        "#     transformations = [image]\n",
        "#     if retinopathy:\n",
        "#         for angle in [90, 120, 180, 270]:\n",
        "#             rotated_image = cv2.rotate(image, cv2.ROTATE_90_CLOCKWISE)\n",
        "#             transformations.append(rotated_image)\n",
        "#     mirrored_image = cv2.flip(image, 1)\n",
        "#     transformations.append(mirrored_image)\n",
        "#     augmented_filenames = []\n",
        "#     for idx, transformed_image in enumerate(transformations):\n",
        "#         transformed_filename = f\"{base_filename}_{idx}.png\"\n",
        "#         transformed_path = os.path.join(output_dir, transformed_filename)\n",
        "#         io.imsave(transformed_path, transformed_image)\n",
        "#         augmented_filenames.append(transformed_filename)\n",
        "#     return augmented_filenames\n",
        "\n",
        "# def preprocess_and_augment_single_image(image_path, output_dir, base_filename):\n",
        "#     image = io.imread(image_path)\n",
        "#     preprocessed_image = preprocess_image(image)\n",
        "#     if preprocessed_image is not None:\n",
        "#         augmented_filenames = augment_image(preprocessed_image, base_filename, output_dir, True)\n",
        "#         augmented_images = [io.imread(os.path.join(output_dir, filename)) for filename in augmented_filenames]\n",
        "#         return preprocessed_image, augmented_images\n",
        "#     return None, []\n",
        "\n",
        "# def predict_and_display(model, image_path):\n",
        "#     temp_dir = '/content/temp'\n",
        "#     if not os.path.exists(temp_dir):\n",
        "#         os.makedirs(temp_dir)\n",
        "\n",
        "#     preprocessed_image, augmented_images = preprocess_and_augment_single_image(image_path, temp_dir, 'new_image')\n",
        "\n",
        "#     if preprocessed_image is not None:\n",
        "#         image_array = np.expand_dims(preprocessed_image / 255.0, axis=0)\n",
        "#         prediction = model.predict(image_array)\n",
        "#         predicted_class = np.argmax(prediction)\n",
        "#         dr_levels = [\"No DR\", \"Mild DR\", \"Moderate DR\", \"Severe DR\", \"Proliferative DR\"]\n",
        "\n",
        "#         num_images = 1 + len(augmented_images)\n",
        "#         plt.figure(figsize=(15, 5))\n",
        "\n",
        "#         plt.subplot(1, num_images, 1)\n",
        "#         plt.imshow(preprocessed_image)\n",
        "#         plt.title('Input Image')\n",
        "\n",
        "#         for i, augmented_image in enumerate(augmented_images):\n",
        "#             plt.subplot(1, num_images, i + 2)\n",
        "#             plt.imshow(augmented_image)\n",
        "#             plt.title(f'Augmented {i + 1}')\n",
        "\n",
        "#         plt.suptitle(f'Predicted DR Level: {predicted_class} ({dr_levels[predicted_class]})')\n",
        "#         result_path = os.path.join(temp_dir, 'result.png')\n",
        "#         plt.savefig(result_path)\n",
        "#         plt.close()\n",
        "\n",
        "#         return result_path, preprocessed_image, augmented_images, predicted_class\n",
        "#     else:\n",
        "#         return None, None, [], None\n",
        "\n",
        "# def encode_image(image):\n",
        "#     _, buffer = cv2.imencode('.png', image)\n",
        "#     encoded_image = base64.b64encode(buffer).decode('ascii')\n",
        "#     return encoded_image\n",
        "\n",
        "# @app.route('/predict', methods=['POST'])\n",
        "# def predict():\n",
        "#     file = request.files['file']\n",
        "#     temp_file_path = '/content/temp_uploaded_image.png'\n",
        "#     file.save(temp_file_path)\n",
        "\n",
        "#     result_path, preprocessed_image, augmented_images, predicted_class = predict_and_display(model, temp_file_path)\n",
        "\n",
        "#     if result_path is not None:\n",
        "#         encoded_preprocessed_image = encode_image(preprocessed_image)\n",
        "#         encoded_augmented_images = [encode_image(img) for img in augmented_images]\n",
        "\n",
        "#         return jsonify({\n",
        "#             'prediction': int(predicted_class),\n",
        "#             'preprocessed_image': encoded_preprocessed_image,\n",
        "#             'augmented_images': encoded_augmented_images,\n",
        "#             'result_image_path': result_path\n",
        "#         })\n",
        "#     else:\n",
        "#         return jsonify({'error': 'Image processing failed.'})\n",
        "\n",
        "# if __name__ == '__main__':\n",
        "#     # Start ngrok tunnel\n",
        "#     public_url = ngrok.connect(5000)\n",
        "#     print(f\"Public URL: {public_url}\")\n",
        "\n",
        "#     # Run Flask app\n",
        "#     app.run()"
      ]
    },
    {
      "cell_type": "code",
      "execution_count": null,
      "metadata": {
        "colab": {
          "base_uri": "https://localhost:8080/"
        },
        "id": "Ij2_V4BEfD5d",
        "outputId": "03a6bf2b-487f-4147-a9bf-7195d0168d8d"
      },
      "outputs": [
        {
          "output_type": "stream",
          "name": "stdout",
          "text": [
            "Requirement already satisfied: imageio[pyav] in /usr/local/lib/python3.10/dist-packages (2.31.6)\n",
            "Requirement already satisfied: numpy in /usr/local/lib/python3.10/dist-packages (from imageio[pyav]) (1.25.2)\n",
            "Requirement already satisfied: pillow<10.1.0,>=8.3.2 in /usr/local/lib/python3.10/dist-packages (from imageio[pyav]) (9.4.0)\n",
            "Collecting av (from imageio[pyav])\n",
            "  Downloading av-12.1.0-cp310-cp310-manylinux_2_17_x86_64.manylinux2014_x86_64.whl (34.3 MB)\n",
            "\u001b[2K     \u001b[90m━━━━━━━━━━━━━━━━━━━━━━━━━━━━━━━━━━━━━━━━\u001b[0m \u001b[32m34.3/34.3 MB\u001b[0m \u001b[31m32.3 MB/s\u001b[0m eta \u001b[36m0:00:00\u001b[0m\n",
            "\u001b[?25hInstalling collected packages: av\n",
            "Successfully installed av-12.1.0\n",
            "Requirement already satisfied: scikit-image in /usr/local/lib/python3.10/dist-packages (0.19.3)\n",
            "Requirement already satisfied: numpy>=1.17.0 in /usr/local/lib/python3.10/dist-packages (from scikit-image) (1.25.2)\n",
            "Requirement already satisfied: scipy>=1.4.1 in /usr/local/lib/python3.10/dist-packages (from scikit-image) (1.11.4)\n",
            "Requirement already satisfied: networkx>=2.2 in /usr/local/lib/python3.10/dist-packages (from scikit-image) (3.3)\n",
            "Requirement already satisfied: pillow!=7.1.0,!=7.1.1,!=8.3.0,>=6.1.0 in /usr/local/lib/python3.10/dist-packages (from scikit-image) (9.4.0)\n",
            "Requirement already satisfied: imageio>=2.4.1 in /usr/local/lib/python3.10/dist-packages (from scikit-image) (2.31.6)\n",
            "Requirement already satisfied: tifffile>=2019.7.26 in /usr/local/lib/python3.10/dist-packages (from scikit-image) (2024.5.22)\n",
            "Requirement already satisfied: PyWavelets>=1.1.1 in /usr/local/lib/python3.10/dist-packages (from scikit-image) (1.6.0)\n",
            "Requirement already satisfied: packaging>=20.0 in /usr/local/lib/python3.10/dist-packages (from scikit-image) (24.1)\n",
            "Requirement already satisfied: pillow in /usr/local/lib/python3.10/dist-packages (9.4.0)\n"
          ]
        }
      ],
      "source": [
        "!pip install imageio[pyav]\n",
        "!pip install scikit-image\n",
        "!pip install pillow"
      ]
    },
    {
      "cell_type": "code",
      "execution_count": null,
      "metadata": {
        "colab": {
          "base_uri": "https://localhost:8080/"
        },
        "id": "L7B3zuav6j4a",
        "outputId": "50a9fefe-e3e3-4cc2-f740-f095690c43fd"
      },
      "outputs": [
        {
          "output_type": "stream",
          "name": "stdout",
          "text": [
            "Public URL: NgrokTunnel: \"https://326d-34-23-218-215.ngrok-free.app\" -> \"http://localhost:5000\"\n",
            " * Serving Flask app '__main__'\n",
            " * Debug mode: off\n"
          ]
        },
        {
          "output_type": "stream",
          "name": "stderr",
          "text": [
            "INFO:werkzeug:\u001b[31m\u001b[1mWARNING: This is a development server. Do not use it in a production deployment. Use a production WSGI server instead.\u001b[0m\n",
            " * Running on http://127.0.0.1:5000\n",
            "INFO:werkzeug:\u001b[33mPress CTRL+C to quit\u001b[0m\n"
          ]
        },
        {
          "output_type": "stream",
          "name": "stdout",
          "text": [
            "1/1 [==============================] - 3s 3s/step\n"
          ]
        },
        {
          "output_type": "stream",
          "name": "stderr",
          "text": [
            "INFO:werkzeug:127.0.0.1 - - [13/Jun/2024 16:27:04] \"POST /predict HTTP/1.1\" 200 -\n"
          ]
        }
      ],
      "source": [
        "from flask import Flask, request, jsonify, render_template, send_file\n",
        "import os\n",
        "import numpy as np\n",
        "import cv2\n",
        "import tensorflow as tf\n",
        "import base64\n",
        "from skimage import io, img_as_ubyte\n",
        "from pyngrok import ngrok\n",
        "import matplotlib.pyplot as plt\n",
        "import subprocess\n",
        "\n",
        "\n",
        "\n",
        "app = Flask(__name__)\n",
        "app.config['UPLOAD_FOLDER'] = 'static/uploads/'\n",
        "\n",
        "# Load your model\n",
        "model = tf.keras.models.load_model('/content/drive/MyDrive/FineTunedModel')\n",
        "\n",
        "# Detailed information for each DR level\n",
        "dr_info = {\n",
        "    0: {\n",
        "        \"meaning\": \"No signs of diabetic retinopathy. The retina appears normal with no abnormalities present.\",\n",
        "        \"presence\": \"Normal retina with no abnormalities.\",\n",
        "        \"causes\": \"Good management of diabetes and overall health.\",\n",
        "        \"consequences\": \"Maintaining this level ensures healthy vision and prevents the onset of diabetic retinopathy or other eye diseases such as glaucoma and cataracts.\",\n",
        "        \"precautions\": \"Maintain good control of your blood sugar, blood pressure, and cholesterol. Have regular eye exams to monitor for any changes.\",\n",
        "        \"diet\": \"Balanced diet with a focus on managing blood sugar levels. Foods to eat: vegetables, fruits, whole grains, lean proteins, and healthy fats. Foods to avoid: sugary foods, high-carb processed foods, and high-fat foods.\",\n",
        "        \"exercise\": \"Regular physical activity to manage diabetes. Recommended exercises: brisk walking, cycling, swimming, and light jogging.\",\n",
        "        \"doctor\": \"Regular follow-ups with your healthcare provider.\"\n",
        "    },\n",
        "    1: {\n",
        "        \"meaning\": \"Small areas of swelling in the retina's tiny blood vessels, known as microaneurysms. These are the earliest visible signs of diabetic retinopathy.\",\n",
        "        \"presence\": \"Microaneurysms or small bulges in the blood vessels.\",\n",
        "        \"causes\": \"Early effects of diabetes on the retina.\",\n",
        "        \"consequences\": \"May progress if diabetes is not well managed, potentially leading to more severe diabetic retinopathy or macular edema.\",\n",
        "        \"precautions\": \"Continue regular monitoring and maintain good control of your diabetes. Follow up with your eye care professional as recommended.\",\n",
        "        \"diet\": \"Low sugar and low-fat diet. Foods to eat: non-starchy vegetables, lean proteins, whole grains, and low-fat dairy. Foods to avoid: sugary snacks, high-fat meats, and refined grains.\",\n",
        "        \"exercise\": \"Consistent exercise to keep diabetes under control. Recommended exercises: walking, yoga, water aerobics, and cycling.\",\n",
        "        \"doctor\": \"Regular check-ups and follow the treatment plan.\"\n",
        "    },\n",
        "    2: {\n",
        "        \"meaning\": \"Blood vessels that nourish the retina are blocked, leading to more significant damage, such as microaneurysms, hemorrhages (bleeding), and hard exudates (fatty deposits).\",\n",
        "        \"presence\": \"Microaneurysms, retinal hemorrhages, and hard exudates.\",\n",
        "        \"causes\": \"Progression of diabetes affecting retinal blood vessels.\",\n",
        "        \"consequences\": \"Increased risk of vision impairment if untreated, as well as potential for diabetic macular edema or retinal vein occlusion.\",\n",
        "        \"precautions\": \"Increase the frequency of eye exams. Follow your doctor's advice to manage your diabetes more effectively.\",\n",
        "        \"diet\": \"Strict diabetic diet with controlled carbohydrate intake. Foods to eat: high-fiber foods, lean proteins, and healthy fats. Foods to avoid: high-sugar foods, refined carbohydrates, and high-sodium foods.\",\n",
        "        \"exercise\": \"Increased physical activity as recommended by your doctor. Recommended exercises: moderate-intensity aerobic exercises, strength training, and flexibility exercises.\",\n",
        "        \"doctor\": \"More frequent monitoring and possible medication adjustments.\"\n",
        "       },\n",
        "    3: {\n",
        "       \"meaning\": \"Many blood vessels are blocked, depriving areas of the retina of their blood supply, leading to significant retinal damage including hemorrhages, hard and soft exudates (cotton wool spots), and more widespread microaneurysms.\",\n",
        "        \"presence\": \"Significant blood vessel blockage, retinal hemorrhages, hard exudates, soft exudates (cotton wool spots), and extensive microaneurysms.\",\n",
        "        \"causes\": \"Advanced effects of poorly managed diabetes.\",\n",
        "        \"consequences\": \"High risk of severe vision loss or blindness if untreated. Other complications can include retinal detachment and neovascular glaucoma.\",\n",
        "        \"precautions\": \"Frequent monitoring and possible treatment to prevent progression. Follow medical advice closely.\",\n",
        "        \"diet\": \"Very strict diabetic diet and possibly medical nutrition therapy. Foods to eat: high-fiber vegetables, lean proteins, low-glycemic index foods. Foods to avoid: sugary foods, high-carb foods, and trans fats.\",\n",
        "        \"exercise\": \"Tailored exercise program under medical supervision. Recommended exercises: low-impact activities such as walking, stationary cycling, and swimming.\",\n",
        "        \"doctor\": \"Close supervision by an ophthalmologist and diabetes specialist.\"\n",
        "\n",
        "       },\n",
        "    4: {\n",
        "        \"meaning\": \"The most advanced stage with new blood vessels growing on the retina (neovascularization), which can leak and cause severe vision problems such as vitreous hemorrhage or retinal detachment. Presence of microaneurysms, hemorrhages, hard exudates, soft exudates (cotton wool spots), and proliferative changes.\",\n",
        "        \"presence\": \"Proliferation of abnormal blood vessels, extensive microaneurysms, retinal hemorrhages, hard exudates, soft exudates (cotton wool spots).\",\n",
        "        \"causes\": \"Severe and prolonged high blood sugar levels.\",\n",
        "        \"consequences\": \"High risk of severe vision impairment or blindness. Other complications include tractional retinal detachment and neovascular glaucoma.\",\n",
        "        \"precautions\": \"Immediate treatment is required to prevent severe vision loss. Treatments may include laser therapy, injections, or surgery.\",\n",
        "        \"diet\": \"Strict diabetic diet, possibly involving a dietitian. Foods to eat: non-starchy vegetables, high-fiber foods, lean proteins, and healthy fats. Foods to avoid: sugary foods, high-carb foods, processed foods, and high-sodium foods.\",\n",
        "        \"exercise\": \"Exercise under strict medical guidance. Recommended exercises: low-impact activities such as walking and stationary cycling, avoiding any activity that can cause strain or increase blood pressure significantly.\",\n",
        "        \"doctor\": \"Immediate intervention by an ophthalmologist, with possible surgical treatments.\"\n",
        "\n",
        "        }\n",
        "}\n",
        "\n",
        "def preprocess_image(image, size=(256, 256)):\n",
        "    if image.ndim == 2 or image.max() == image.min():\n",
        "        print(\"Skipping image: Image is either grayscale or completely black.\")\n",
        "        return None\n",
        "\n",
        "    if image.ndim == 3 and image.shape[2] == 3:\n",
        "        lab = cv2.cvtColor(image, cv2.COLOR_RGB2LAB)\n",
        "        l, a, b = cv2.split(lab)\n",
        "        clahe = cv2.createCLAHE(clipLimit=2.0, tileGridSize=(8, 8))\n",
        "        cl = clahe.apply(l)\n",
        "        limg = cv2.merge((cl, a, b))\n",
        "        image = cv2.cvtColor(limg, cv2.COLOR_LAB2RGB)\n",
        "    elif image.ndim == 2:\n",
        "        clahe = cv2.createCLAHE(clipLimit=2.0, tileGridSize=(8, 8))\n",
        "        image = clahe.apply(image)\n",
        "\n",
        "    resized_image = cv2.resize(image, size)\n",
        "    return img_as_ubyte(resized_image)\n",
        "\n",
        "def augment_image(image, base_filename, output_dir, retinopathy=True):\n",
        "    transformations = [image]\n",
        "    if retinopathy:\n",
        "        for angle in [90, 120, 180, 270]:\n",
        "            rotated_image = cv2.rotate(image, cv2.ROTATE_90_CLOCKWISE)\n",
        "            transformations.append(rotated_image)\n",
        "    mirrored_image = cv2.flip(image, 1)\n",
        "    transformations.append(mirrored_image)\n",
        "    augmented_filenames = []\n",
        "    for idx, transformed_image in enumerate(transformations):\n",
        "        transformed_filename = f\"{base_filename}_{idx}.png\"\n",
        "        transformed_path = os.path.join(output_dir, transformed_filename)\n",
        "        io.imsave(transformed_path, transformed_image)\n",
        "        augmented_filenames.append(transformed_filename)\n",
        "    return augmented_filenames\n",
        "\n",
        "def preprocess_and_augment_single_image(image_path, output_dir, base_filename):\n",
        "    image = io.imread(image_path)\n",
        "    preprocessed_image = preprocess_image(image)\n",
        "    if preprocessed_image is not None:\n",
        "        augmented_filenames = augment_image(preprocessed_image, base_filename, output_dir, True)\n",
        "        augmented_images = [io.imread(os.path.join(output_dir, filename)) for filename in augmented_filenames]\n",
        "        return preprocessed_image, augmented_images\n",
        "    return None, []\n",
        "\n",
        "def predict_and_display(model, image_path):\n",
        "    temp_dir = '/content/temp'\n",
        "    if not os.path.exists(temp_dir):\n",
        "        os.makedirs(temp_dir)\n",
        "\n",
        "    preprocessed_image, augmented_images = preprocess_and_augment_single_image(image_path, temp_dir, 'new_image')\n",
        "\n",
        "    if preprocessed_image is not None:\n",
        "        image_array = np.expand_dims(preprocessed_image / 255.0, axis=0)\n",
        "        prediction = model.predict(image_array)\n",
        "        predicted_class = np.argmax(prediction)\n",
        "\n",
        "        num_images = 1 + len(augmented_images)\n",
        "        plt.figure(figsize=(15, 5))\n",
        "\n",
        "        plt.subplot(1, num_images, 1)\n",
        "        plt.imshow(preprocessed_image)\n",
        "        plt.title('Input Image')\n",
        "\n",
        "        for i, augmented_image in enumerate(augmented_images):\n",
        "            plt.subplot(1, num_images, i + 2)\n",
        "            plt.imshow(augmented_image)\n",
        "            plt.title(f'Augmented {i + 1}')\n",
        "\n",
        "        plt.suptitle(f'Predicted DR Level: {predicted_class} ({dr_info[predicted_class][\"meaning\"]})')\n",
        "        result_path = os.path.join(temp_dir, 'result.png')\n",
        "        plt.savefig(result_path)\n",
        "        plt.close()\n",
        "\n",
        "        return result_path, preprocessed_image, augmented_images, predicted_class\n",
        "    else:\n",
        "        return None, None, [], None\n",
        "\n",
        "def encode_image(image):\n",
        "    _, buffer = cv2.imencode('.png', image)\n",
        "    encoded_image = base64.b64encode(buffer).decode('ascii')\n",
        "    return encoded_image\n",
        "\n",
        "@app.route('/predict', methods=['POST'])\n",
        "def predict():\n",
        "    file = request.files['file']\n",
        "    temp_file_path = '/content/temp_uploaded_image.png'\n",
        "    file.save(temp_file_path)\n",
        "\n",
        "    result_path, preprocessed_image, augmented_images, predicted_class = predict_and_display(model, temp_file_path)\n",
        "\n",
        "    if result_path is not None:\n",
        "        encoded_preprocessed_image = encode_image(preprocessed_image)\n",
        "        encoded_augmented_images = [encode_image(img) for img in augmented_images]\n",
        "\n",
        "        return jsonify({\n",
        "            'prediction': int(predicted_class),\n",
        "            'preprocessed_image': encoded_preprocessed_image,\n",
        "            'augmented_images': encoded_augmented_images,\n",
        "            'result_image_path': result_path,\n",
        "            'dr_info': dr_info[predicted_class]\n",
        "        })\n",
        "    else:\n",
        "        return jsonify({'error': 'Image processing failed.'})\n",
        "\n",
        "if __name__ == '__main__':\n",
        "    public_url = ngrok.connect(5000)\n",
        "    print(f\"Public URL: {public_url}\")\n",
        "    app.run()\n"
      ]
    }
  ],
  "metadata": {
    "colab": {
      "provenance": [],
      "authorship_tag": "ABX9TyMzrCiIKQc4dPgzJRbGUxch",
      "include_colab_link": true
    },
    "kernelspec": {
      "display_name": "Python 3",
      "name": "python3"
    },
    "language_info": {
      "name": "python"
    }
  },
  "nbformat": 4,
  "nbformat_minor": 0
}